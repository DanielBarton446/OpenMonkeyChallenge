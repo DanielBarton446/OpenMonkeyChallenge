{
  "cells": [
    {
      "cell_type": "code",
      "execution_count": null,
      "metadata": {
        "colab": {
          "base_uri": "https://localhost:8080/"
        },
        "id": "pesHsEsFffSd",
        "outputId": "44c7e164-e189-479e-9990-0aafe59f03fd"
      },
      "outputs": [
        {
          "output_type": "stream",
          "name": "stdout",
          "text": [
            "Thu Apr 28 05:53:34 2022       \n",
            "+-----------------------------------------------------------------------------+\n",
            "| NVIDIA-SMI 460.32.03    Driver Version: 460.32.03    CUDA Version: 11.2     |\n",
            "|-------------------------------+----------------------+----------------------+\n",
            "| GPU  Name        Persistence-M| Bus-Id        Disp.A | Volatile Uncorr. ECC |\n",
            "| Fan  Temp  Perf  Pwr:Usage/Cap|         Memory-Usage | GPU-Util  Compute M. |\n",
            "|                               |                      |               MIG M. |\n",
            "|===============================+======================+======================|\n",
            "|   0  Tesla P100-PCIE...  Off  | 00000000:00:04.0 Off |                    0 |\n",
            "| N/A   34C    P0    25W / 250W |      0MiB / 16280MiB |      0%      Default |\n",
            "|                               |                      |                  N/A |\n",
            "+-------------------------------+----------------------+----------------------+\n",
            "                                                                               \n",
            "+-----------------------------------------------------------------------------+\n",
            "| Processes:                                                                  |\n",
            "|  GPU   GI   CI        PID   Type   Process name                  GPU Memory |\n",
            "|        ID   ID                                                   Usage      |\n",
            "|=============================================================================|\n",
            "|  No running processes found                                                 |\n",
            "+-----------------------------------------------------------------------------+\n"
          ]
        }
      ],
      "source": [
        "!nvidia-smi # reset until p100"
      ]
    },
    {
      "cell_type": "code",
      "source": [
        "my_cluster = 0\n",
        "\n",
        "clusters = [1, 1, 2, 1, 0, 2, 1, 1, 0, 1, 1, 2, 0, 1, 1, 2, 0, 1, 2, 1, 1, 2, 1, 0, 2, 2]\n",
        "species = ['Barbary_macaque', 'Bonobo', 'Chacma_baboon', 'Chimpanzee',\n",
        "       'Common_marmoset', 'Cotton-top_tamarin', 'Crab-eating_macaque',\n",
        "       'Dusky_leaf_monkey', 'Emperor_tamarin', 'Formosan_rock_macaque',\n",
        "       'Gibbon', 'Golden_lion_tamarin', 'Golden_snub-nosed_monkey',\n",
        "       'Gorilla', 'Hamadryas_baboon', 'Japanese_macaque',\n",
        "       'Lion-tailed_macaque', 'Mandrill', 'Olive_baboon', 'Orangutan',\n",
        "       'Proboscis_monkey', 'Rhesus_macaque', 'Siamang', 'Squirrel_monkey',\n",
        "       'Tufted_capuchin', 'Vervet_monkey']\n",
        "\n",
        "my_species = []\n",
        "for i in range(len(clusters)):\n",
        "  if clusters[i] == my_cluster:\n",
        "    my_species.append(species[i])\n",
        "my_species"
      ],
      "metadata": {
        "id": "HLU-6YdFpwM5",
        "colab": {
          "base_uri": "https://localhost:8080/"
        },
        "outputId": "d515d681-29e4-4947-c686-5058857f42fa"
      },
      "execution_count": null,
      "outputs": [
        {
          "output_type": "execute_result",
          "data": {
            "text/plain": [
              "['Common_marmoset',\n",
              " 'Emperor_tamarin',\n",
              " 'Golden_snub-nosed_monkey',\n",
              " 'Lion-tailed_macaque',\n",
              " 'Squirrel_monkey']"
            ]
          },
          "metadata": {},
          "execution_count": 2
        }
      ]
    },
    {
      "cell_type": "code",
      "execution_count": null,
      "metadata": {
        "id": "eXvrdLgue9VN"
      },
      "outputs": [],
      "source": [
        "%%capture\n",
        "! pip install deeplabcut==2.2.0.6\n",
        "import deeplabcut"
      ]
    },
    {
      "cell_type": "code",
      "execution_count": null,
      "metadata": {
        "id": "eUF0uavcpubC"
      },
      "outputs": [],
      "source": [
        "! cp -r /content/drive/MyDrive/5561/baseline ./baseline"
      ]
    },
    {
      "cell_type": "code",
      "execution_count": null,
      "metadata": {
        "id": "c22mnN_AaO4X"
      },
      "outputs": [],
      "source": [
        "! cp /content/drive/MyDrive/5561/OpenMonkeyChallenge/Zips/train_cropped.zip train_cropped.zip\n",
        "! cp /content/drive/MyDrive/5561/OpenMonkeyChallenge/Zips/val_cropped.zip val_cropped.zip\n",
        "! cp /content/drive/MyDrive/5561/OpenMonkeyChallenge/Zips/test_cropped.zip test_cropped.zip"
      ]
    },
    {
      "cell_type": "code",
      "execution_count": null,
      "metadata": {
        "id": "prlzsmtrabRa"
      },
      "outputs": [],
      "source": [
        "%%capture\n",
        "! unzip train_cropped.zip\n",
        "! unzip val_cropped.zip\n",
        "! unzip test_cropped.zip"
      ]
    },
    {
      "cell_type": "code",
      "execution_count": null,
      "metadata": {
        "id": "0HNm1gEW2nz8"
      },
      "outputs": [],
      "source": [
        "! cp /content/drive/MyDrive/5561/OpenMonkeyChallenge/Annotations/train_annotation.json train_annotation.json\n",
        "! cp /content/drive/MyDrive/5561/OpenMonkeyChallenge/Annotations/val_annotation.json val_annotation.json\n",
        "! cp /content/drive/MyDrive/5561/OpenMonkeyChallenge/Annotations/test_prediction.json test_prediction.json"
      ]
    },
    {
      "cell_type": "code",
      "execution_count": null,
      "metadata": {
        "id": "ZpU0eKxC29uW"
      },
      "outputs": [],
      "source": [
        "import json\n",
        "\n",
        "with open(\"train_annotation.json\") as f:\n",
        "  train_js = json.load(f)\n",
        "\n",
        "with open(\"val_annotation.json\") as f:\n",
        "  val_js = json.load(f)\n",
        "\n",
        "with open(\"test_prediction.json\") as f:\n",
        "  test_js = json.load(f)"
      ]
    },
    {
      "cell_type": "code",
      "execution_count": null,
      "metadata": {
        "id": "3e-xTG4y7FIB"
      },
      "outputs": [],
      "source": [
        "import numpy as np\n",
        "species = list(np.unique([example['species'] for example in train_js['data']]))"
      ]
    },
    {
      "cell_type": "code",
      "execution_count": null,
      "metadata": {
        "colab": {
          "base_uri": "https://localhost:8080/",
          "height": 35
        },
        "id": "ruVxU7MDDJHr",
        "outputId": "aba08f1e-9502-43e2-f008-84adddc6345c"
      },
      "outputs": [
        {
          "output_type": "execute_result",
          "data": {
            "text/plain": [
              "'train_cropped_0000000.jpg'"
            ],
            "application/vnd.google.colaboratory.intrinsic+json": {
              "type": "string"
            }
          },
          "metadata": {},
          "execution_count": 10
        }
      ],
      "source": [
        "def get_cropped_name(name):\n",
        "  return name[:-11] + \"cropped_\" + name[-11:]\n",
        "\n",
        "get_cropped_name('train_0000000.jpg')"
      ]
    },
    {
      "cell_type": "code",
      "execution_count": null,
      "metadata": {
        "colab": {
          "base_uri": "https://localhost:8080/"
        },
        "id": "_WC2wfYIC_ii",
        "outputId": "ef4c0b21-7d1e-4fad-e0e3-97e21cbfe285"
      },
      "outputs": [
        {
          "output_type": "execute_result",
          "data": {
            "text/plain": [
              "1778"
            ]
          },
          "metadata": {},
          "execution_count": 11
        }
      ],
      "source": [
        "def get_img_names(species):\n",
        "  names = []\n",
        "  for train in train_js['data']:\n",
        "    if train['species'] in species:\n",
        "      names.append(get_cropped_name(train['file']))\n",
        "  for val in val_js['data']:\n",
        "    if val['species'] in species:\n",
        "      names.append(get_cropped_name(val['file']))\n",
        "  return names\n",
        "\n",
        "len(get_img_names([\"Gorilla\"]))"
      ]
    },
    {
      "cell_type": "code",
      "execution_count": null,
      "metadata": {
        "colab": {
          "base_uri": "https://localhost:8080/"
        },
        "id": "kddJLvX7wUL3",
        "outputId": "12240e17-3a6c-4902-cd6f-b441446b12c8"
      },
      "outputs": [
        {
          "output_type": "execute_result",
          "data": {
            "text/plain": [
              "['test_cropped_0000112.jpg',\n",
              " 'test_cropped_0000142.jpg',\n",
              " 'test_cropped_0000245.jpg',\n",
              " 'test_cropped_0000277.jpg',\n",
              " 'test_cropped_0000298.jpg',\n",
              " 'test_cropped_0000328.jpg',\n",
              " 'test_cropped_0000338.jpg',\n",
              " 'test_cropped_0000356.jpg',\n",
              " 'test_cropped_0000396.jpg',\n",
              " 'test_cropped_0000422.jpg']"
            ]
          },
          "metadata": {},
          "execution_count": 12
        }
      ],
      "source": [
        "def get_img_names_test(species):\n",
        "  names = []\n",
        "  for test in test_js['data']:\n",
        "    if test['species'] in species:\n",
        "      names.append(get_cropped_name(test['file']))\n",
        "  return names\n",
        "\n",
        "get_img_names_test([\"Gorilla\"])[:10]"
      ]
    },
    {
      "cell_type": "code",
      "execution_count": null,
      "metadata": {
        "id": "Zsbnsejpz9yr",
        "colab": {
          "base_uri": "https://localhost:8080/",
          "height": 35
        },
        "outputId": "ec5a7051-8eb1-47ee-9fc0-72d927859c11"
      },
      "outputs": [
        {
          "output_type": "execute_result",
          "data": {
            "text/plain": [
              "'baseline_0'"
            ],
            "application/vnd.google.colaboratory.intrinsic+json": {
              "type": "string"
            }
          },
          "metadata": {},
          "execution_count": 13
        }
      ],
      "source": [
        "import os\n",
        "import shutil\n",
        "\n",
        "# for s in species:\n",
        "shutil.copytree(\"baseline\", f\"baseline_{my_cluster}\")"
      ]
    },
    {
      "cell_type": "code",
      "execution_count": null,
      "metadata": {
        "id": "I3TKvz0SxRn4"
      },
      "outputs": [],
      "source": [
        "# for s in species:\n",
        "#   os.mkdir(f\"test_cropped_{s}\")\n",
        "os.mkdir(f\"test_cropped_{my_cluster}\")"
      ]
    },
    {
      "cell_type": "code",
      "execution_count": null,
      "metadata": {
        "id": "s8BdMFg7Fud7"
      },
      "outputs": [],
      "source": [
        "def crop_df(df, imgs):\n",
        "  return df[df.index.get_level_values(2).isin(imgs)]"
      ]
    },
    {
      "cell_type": "code",
      "execution_count": null,
      "metadata": {
        "id": "wFTZy5Pe56TA"
      },
      "outputs": [],
      "source": [
        "import pandas as pd\n",
        "\n",
        "# for s in species:\n",
        "#   dir = f\"baseline_{s}/\"\n",
        "#   csv = dir + \"labeled-data/baseline/CollectedData_daniel.csv\"\n",
        "#   h5 = dir + \"labeled-data/baseline/CollectedData_daniel.h5\"\n",
        "#   df = pd.read_hdf(h5)\n",
        "#   imgs = species_to_imgs[s]\n",
        "#   df_cropped = crop_df(df, imgs)\n",
        "#   df_cropped.to_csv(csv)\n",
        "#   df_cropped.to_hdf(h5, mode=\"w\", key=\"label\")\n",
        "\n",
        "\n",
        "\n",
        "dir = f\"baseline_{my_cluster}/\"\n",
        "csv = dir + \"labeled-data/baseline/CollectedData_daniel.csv\"\n",
        "h5 = dir + \"labeled-data/baseline/CollectedData_daniel.h5\"\n",
        "df = pd.read_hdf(h5)\n",
        "imgs = get_img_names(my_species)\n",
        "df_cropped = crop_df(df, imgs)\n",
        "df_cropped.to_csv(csv)\n",
        "df_cropped.to_hdf(h5, mode=\"w\", key=\"label\")"
      ]
    },
    {
      "cell_type": "code",
      "execution_count": null,
      "metadata": {
        "id": "pX1AP4gkbACN"
      },
      "outputs": [],
      "source": [
        "# Move images\n",
        "\n",
        "import os\n",
        "import shutil\n",
        "\n",
        "imgs = get_img_names(my_species)\n",
        "for img in imgs:\n",
        "  prefix = \"train_cropped/\" if \"train\" in img else \"val_cropped/\"\n",
        "  shutil.move(prefix + img, f\"baseline_{my_cluster}/labeled-data/baseline/{img}\")"
      ]
    },
    {
      "cell_type": "code",
      "execution_count": null,
      "metadata": {
        "id": "AJtW0HvvxoGn"
      },
      "outputs": [],
      "source": [
        "imgs = get_img_names_test(my_species)\n",
        "for img in imgs:\n",
        "  shutil.move(f\"test_cropped/{img}\", f\"test_cropped_{my_cluster}/{img}\")"
      ]
    },
    {
      "cell_type": "code",
      "execution_count": null,
      "metadata": {
        "id": "bw61V5oZ1FJ5"
      },
      "outputs": [],
      "source": [
        "path_config_file = f\"/content/baseline_{my_cluster}/config.yaml\"\n",
        "print(f\"training model for cluster {my_cluster}\")\n",
        "\n",
        "deeplabcut.create_training_dataset(path_config_file, augmenter_type=\"imgaug\")\n",
        "\n",
        "deeplabcut.train_network(path_config_file, max_snapshots_to_keep=5, displayiters=100, saveiters=10000, maxiters=350000)\n",
        "\n",
        "deeplabcut.analyze_videos(path_config_file,\n",
        "                          [f'/content/test_cropped_{my_cluster}'], \n",
        "                          videotype='.jpg', \n",
        "                          destfolder=f\"/content/test_predictions_{my_cluster}\")\n"
      ]
    },
    {
      "cell_type": "code",
      "source": [
        "shutil.make_archive(f\"/content/drive/MyDrive/5561/3-models/test_predictions_{my_cluster}\", 'zip', f\"/content/test_predictions_{my_cluster}\")"
      ],
      "metadata": {
        "colab": {
          "base_uri": "https://localhost:8080/",
          "height": 35
        },
        "id": "HM5NQibStpbx",
        "outputId": "ce425890-ae73-4150-94c3-012a2c6882f3"
      },
      "execution_count": null,
      "outputs": [
        {
          "output_type": "execute_result",
          "data": {
            "text/plain": [
              "'/content/drive/MyDrive/5561/3-models/test_predictions_0.zip'"
            ],
            "application/vnd.google.colaboratory.intrinsic+json": {
              "type": "string"
            }
          },
          "metadata": {},
          "execution_count": 20
        }
      ]
    },
    {
      "cell_type": "code",
      "execution_count": null,
      "metadata": {
        "id": "5QbGkBu70cAt",
        "colab": {
          "base_uri": "https://localhost:8080/",
          "height": 186
        },
        "outputId": "e82b91ad-02b2-4fea-8106-36e25e5cd510"
      },
      "outputs": [
        {
          "output_type": "error",
          "ename": "KeyboardInterrupt",
          "evalue": "ignored",
          "traceback": [
            "\u001b[0;31m---------------------------------------------------------------------------\u001b[0m",
            "\u001b[0;31mKeyboardInterrupt\u001b[0m                         Traceback (most recent call last)",
            "\u001b[0;32m<ipython-input-21-648a2bab0435>\u001b[0m in \u001b[0;36m<module>\u001b[0;34m()\u001b[0m\n\u001b[1;32m      1\u001b[0m \u001b[0;32mwhile\u001b[0m \u001b[0;32mTrue\u001b[0m\u001b[0;34m:\u001b[0m\u001b[0;34m\u001b[0m\u001b[0;34m\u001b[0m\u001b[0m\n\u001b[0;32m----> 2\u001b[0;31m   \u001b[0;32mpass\u001b[0m\u001b[0;34m\u001b[0m\u001b[0;34m\u001b[0m\u001b[0m\n\u001b[0m",
            "\u001b[0;31mKeyboardInterrupt\u001b[0m: "
          ]
        }
      ],
      "source": [
        "while True:\n",
        "  pass"
      ]
    },
    {
      "cell_type": "code",
      "source": [
        ""
      ],
      "metadata": {
        "id": "WVPWfb7Zv7fY"
      },
      "execution_count": null,
      "outputs": []
    }
  ],
  "metadata": {
    "accelerator": "GPU",
    "colab": {
      "collapsed_sections": [],
      "machine_shape": "hm",
      "name": "Copy of OpenMonkeyChallenge3Models.ipynb",
      "provenance": []
    },
    "kernelspec": {
      "display_name": "Python 3",
      "name": "python3"
    },
    "language_info": {
      "name": "python"
    }
  },
  "nbformat": 4,
  "nbformat_minor": 0
}