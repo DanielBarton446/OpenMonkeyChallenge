{
  "nbformat": 4,
  "nbformat_minor": 0,
  "metadata": {
    "colab": {
      "name": "OpenMonkeyChallengeBaseline.ipynb",
      "provenance": [],
      "collapsed_sections": [],
      "machine_shape": "hm"
    },
    "kernelspec": {
      "name": "python3",
      "display_name": "Python 3"
    },
    "language_info": {
      "name": "python"
    },
    "accelerator": "GPU"
  },
  "cells": [
    {
      "cell_type": "code",
      "execution_count": null,
      "metadata": {
        "id": "eXvrdLgue9VN"
      },
      "outputs": [],
      "source": [
        "%%capture\n",
        "! pip install deeplabcut\n",
        "import deeplabcut"
      ]
    },
    {
      "cell_type": "code",
      "source": [
        "! cp -r /content/drive/MyDrive/5561/baseline ./baseline"
      ],
      "metadata": {
        "id": "eUF0uavcpubC"
      },
      "execution_count": null,
      "outputs": []
    },
    {
      "cell_type": "code",
      "source": [
        "! cp /content/drive/MyDrive/5561/OpenMonkeyChallenge/Zips/train_cropped.zip train_cropped.zip\n",
        "! cp /content/drive/MyDrive/5561/OpenMonkeyChallenge/Zips/val_cropped.zip val_cropped.zip\n",
        "! cp /content/drive/MyDrive/5561/OpenMonkeyChallenge/Zips/test_cropped.zip test_cropped.zip"
      ],
      "metadata": {
        "id": "c22mnN_AaO4X"
      },
      "execution_count": null,
      "outputs": []
    },
    {
      "cell_type": "code",
      "source": [
        "%%capture\n",
        "! unzip train_cropped.zip\n",
        "! unzip val_cropped.zip\n",
        "! unzip test_cropped.zip"
      ],
      "metadata": {
        "id": "prlzsmtrabRa"
      },
      "execution_count": null,
      "outputs": []
    },
    {
      "cell_type": "code",
      "source": [
        "import os\n",
        "import shutil\n",
        "\n",
        "num_train = 66917\n",
        "num_val = 22306\n",
        "\n",
        "for i in range(num_train):\n",
        "  filename = f\"train_cropped_{str(i).rjust(7, '0')}.jpg\"\n",
        "  shutil.move(\"train_cropped/\" + filename, \"baseline/labeled-data/baseline/\" + filename)\n",
        "\n",
        "for i in range(num_val):\n",
        "  filename = f\"val_cropped_{str(i).rjust(7, '0')}.jpg\"\n",
        "  shutil.move(\"val_cropped/\" + filename, \"baseline/labeled-data/baseline/\" + filename)"
      ],
      "metadata": {
        "id": "pX1AP4gkbACN"
      },
      "execution_count": null,
      "outputs": []
    },
    {
      "cell_type": "code",
      "source": [
        "path_config_file = \"/content/baseline/config.yaml\"\n",
        "\n",
        "deeplabcut.create_training_dataset(path_config_file, augmenter_type=\"imgaug\")"
      ],
      "metadata": {
        "colab": {
          "base_uri": "https://localhost:8080/"
        },
        "id": "Eh67Z0MdDTr7",
        "outputId": "85e83c83-b635-428a-b460-ae2ee0b1d340"
      },
      "execution_count": null,
      "outputs": [
        {
          "output_type": "stream",
          "name": "stdout",
          "text": [
            "Downloading a ImageNet-pretrained model from http://download.tensorflow.org/models/resnet_v1_50_2016_08_28.tar.gz....\n",
            "The training dataset is successfully created. Use the function 'train_network' to start training. Happy training!\n"
          ]
        },
        {
          "output_type": "execute_result",
          "data": {
            "text/plain": [
              "[(0.95,\n",
              "  1,\n",
              "  (array([17822, 50453, 32018, ..., 78661, 20736,  3126]),\n",
              "   array([11229, 63645, 22163, ..., 20730, 82348, 69873])))]"
            ]
          },
          "metadata": {},
          "execution_count": 9
        }
      ]
    },
    {
      "cell_type": "code",
      "source": [
        "#assuming you work with \n",
        "shuffle=1\n",
        "trainingsetindex=0\n",
        "\n",
        "#get path to the model configuration files\n",
        "trainposeconfigfile,testposeconfigfile,snapshotfolder=deeplabcut.return_train_network_path(path_config_file, shuffle=shuffle ,trainingsetindex=trainingsetindex)\n",
        "\n",
        "#load the training config file and change various parameters:\n",
        "cfg_dlc=deeplabcut.auxiliaryfunctions.read_plainconfig(trainposeconfigfile)\n",
        "\n",
        "# cfg_dlc['scale_jitter_lo']= 0.5\n",
        "# cfg_dlc['scale_jitter_up']=1.5\n",
        "\n",
        "# cfg_dlc['augmentationprobability']=.5\n",
        "# cfg_dlc['batch_size']=8 #pick that as large as your GPU can handle it\n",
        "# cfg_dlc['elastic_transform']=True\n",
        "# cfg_dlc['rotation']=180\n",
        "# cfg_dlc['covering']=True\n",
        "# cfg_dlc['motion_blur'] = True\n",
        "# cfg_dlc['optimizer'] =\"adam\"\n",
        "# cfg_dlc['dataset_type']='imgaug'\n",
        "cfg_dlc['multi_step']=[[0.001, 1030000]]\n",
        "cfg_dlc[\"init_weights\"] = \"/content/baseline/dlc-models/iteration-0/baselineMar19-trainset95shuffle1/train/snapshot-403000\"\n",
        "\n",
        "#save it and then train the model!\n",
        "deeplabcut.auxiliaryfunctions.write_plainconfig(trainposeconfigfile,cfg_dlc)"
      ],
      "metadata": {
        "id": "-XJkSxu75rbE"
      },
      "execution_count": null,
      "outputs": []
    },
    {
      "cell_type": "code",
      "source": [
        "deeplabcut.train_network(path_config_file, max_snapshots_to_keep=5, displayiters=100, saveiters=1000, maxiters=1030000, allow_growth=True)"
      ],
      "metadata": {
        "id": "g_ZcYrdfu310"
      },
      "execution_count": null,
      "outputs": []
    },
    {
      "cell_type": "code",
      "source": [
        "deeplabcut.analyze_videos(path_config_file,\n",
        "                          ['/content/test_cropped'], \n",
        "                          videotype='.jpg', \n",
        "                          # save_as_csv=True, \n",
        "                          destfolder=\"/content/test_predictions\")"
      ],
      "metadata": {
        "id": "GFvv01vU0qSp"
      },
      "execution_count": null,
      "outputs": []
    },
    {
      "cell_type": "code",
      "source": [
        ""
      ],
      "metadata": {
        "id": "-erhtbbslsEt"
      },
      "execution_count": null,
      "outputs": []
    }
  ]
}