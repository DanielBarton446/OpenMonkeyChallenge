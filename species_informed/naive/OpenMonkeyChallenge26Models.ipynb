{
  "cells": [
    {
      "cell_type": "code",
      "execution_count": null,
      "metadata": {
        "colab": {
          "base_uri": "https://localhost:8080/"
        },
        "id": "pesHsEsFffSd",
        "outputId": "8eeff61b-df90-41e9-aeba-3942bb40ab7e"
      },
      "outputs": [
        {
          "output_type": "stream",
          "name": "stdout",
          "text": [
            "Thu Apr 28 05:34:28 2022       \n",
            "+-----------------------------------------------------------------------------+\n",
            "| NVIDIA-SMI 460.32.03    Driver Version: 460.32.03    CUDA Version: 11.2     |\n",
            "|-------------------------------+----------------------+----------------------+\n",
            "| GPU  Name        Persistence-M| Bus-Id        Disp.A | Volatile Uncorr. ECC |\n",
            "| Fan  Temp  Perf  Pwr:Usage/Cap|         Memory-Usage | GPU-Util  Compute M. |\n",
            "|                               |                      |               MIG M. |\n",
            "|===============================+======================+======================|\n",
            "|   0  Tesla T4            Off  | 00000000:00:04.0 Off |                    0 |\n",
            "| N/A   35C    P8     9W /  70W |      0MiB / 15109MiB |      0%      Default |\n",
            "|                               |                      |                  N/A |\n",
            "+-------------------------------+----------------------+----------------------+\n",
            "                                                                               \n",
            "+-----------------------------------------------------------------------------+\n",
            "| Processes:                                                                  |\n",
            "|  GPU   GI   CI        PID   Type   Process name                  GPU Memory |\n",
            "|        ID   ID                                                   Usage      |\n",
            "|=============================================================================|\n",
            "|  No running processes found                                                 |\n",
            "+-----------------------------------------------------------------------------+\n"
          ]
        }
      ],
      "source": [
        "!nvidia-smi # reset until p100"
      ]
    },
    {
      "cell_type": "code",
      "source": [
        "my_cluster = 0\n",
        "\n",
        "clusters = [1, 1, 2, 1, 0, 2, 1, 1, 0, 1, 1, 2, 0, 1, 1, 2, 0, 1, 2, 1, 1, 2, 1, 0, 2, 2]\n",
        "species = []\n",
        "\n",
        "my_species = \n"
      ],
      "metadata": {
        "id": "HLU-6YdFpwM5"
      },
      "execution_count": null,
      "outputs": []
    },
    {
      "cell_type": "code",
      "execution_count": null,
      "metadata": {
        "id": "eXvrdLgue9VN"
      },
      "outputs": [],
      "source": [
        "%%capture\n",
        "! pip install deeplabcut==2.2.0.6\n",
        "import deeplabcut"
      ]
    },
    {
      "cell_type": "code",
      "execution_count": null,
      "metadata": {
        "id": "eUF0uavcpubC"
      },
      "outputs": [],
      "source": [
        "! cp -r /content/drive/MyDrive/5561/baseline ./baseline"
      ]
    },
    {
      "cell_type": "code",
      "execution_count": null,
      "metadata": {
        "id": "c22mnN_AaO4X"
      },
      "outputs": [],
      "source": [
        "! cp /content/drive/MyDrive/5561/OpenMonkeyChallenge/Zips/train_cropped.zip train_cropped.zip\n",
        "! cp /content/drive/MyDrive/5561/OpenMonkeyChallenge/Zips/val_cropped.zip val_cropped.zip\n",
        "! cp /content/drive/MyDrive/5561/OpenMonkeyChallenge/Zips/test_cropped.zip test_cropped.zip"
      ]
    },
    {
      "cell_type": "code",
      "execution_count": null,
      "metadata": {
        "id": "prlzsmtrabRa"
      },
      "outputs": [],
      "source": [
        "%%capture\n",
        "! unzip train_cropped.zip\n",
        "! unzip val_cropped.zip\n",
        "! unzip test_cropped.zip"
      ]
    },
    {
      "cell_type": "code",
      "execution_count": null,
      "metadata": {
        "id": "0HNm1gEW2nz8"
      },
      "outputs": [],
      "source": [
        "! cp /content/drive/MyDrive/5561/OpenMonkeyChallenge/Annotations/train_annotation.json train_annotation.json\n",
        "! cp /content/drive/MyDrive/5561/OpenMonkeyChallenge/Annotations/val_annotation.json val_annotation.json\n",
        "! cp /content/drive/MyDrive/5561/OpenMonkeyChallenge/Annotations/test_prediction.json test_prediction.json"
      ]
    },
    {
      "cell_type": "code",
      "execution_count": null,
      "metadata": {
        "id": "ZpU0eKxC29uW"
      },
      "outputs": [],
      "source": [
        "import json\n",
        "\n",
        "with open(\"train_annotation.json\") as f:\n",
        "  train_js = json.load(f)\n",
        "\n",
        "with open(\"val_annotation.json\") as f:\n",
        "  val_js = json.load(f)\n",
        "\n",
        "with open(\"test_prediction.json\") as f:\n",
        "  test_js = json.load(f)"
      ]
    },
    {
      "cell_type": "code",
      "execution_count": null,
      "metadata": {
        "id": "3e-xTG4y7FIB"
      },
      "outputs": [],
      "source": [
        "import numpy as np\n",
        "species = list(np.unique([example['species'] for example in train_js['data']]))"
      ]
    },
    {
      "cell_type": "code",
      "execution_count": null,
      "metadata": {
        "colab": {
          "base_uri": "https://localhost:8080/",
          "height": 35
        },
        "id": "ruVxU7MDDJHr",
        "outputId": "149f71f3-5316-4a2d-e0eb-adbc054843e1"
      },
      "outputs": [
        {
          "output_type": "execute_result",
          "data": {
            "text/plain": [
              "'train_cropped_0000000.jpg'"
            ],
            "application/vnd.google.colaboratory.intrinsic+json": {
              "type": "string"
            }
          },
          "metadata": {},
          "execution_count": 9
        }
      ],
      "source": [
        "def get_cropped_name(name):\n",
        "  return name[:-11] + \"cropped_\" + name[-11:]\n",
        "\n",
        "get_cropped_name('train_0000000.jpg')"
      ]
    },
    {
      "cell_type": "code",
      "execution_count": null,
      "metadata": {
        "colab": {
          "base_uri": "https://localhost:8080/"
        },
        "id": "_WC2wfYIC_ii",
        "outputId": "905b2c43-d8d0-4d5a-c88b-0e6ab99a764e"
      },
      "outputs": [
        {
          "output_type": "execute_result",
          "data": {
            "text/plain": [
              "1778"
            ]
          },
          "metadata": {},
          "execution_count": 10
        }
      ],
      "source": [
        "def get_img_names(species):\n",
        "  names = []\n",
        "  for train in train_js['data']:\n",
        "    if train['species'] == species:\n",
        "      names.append(get_cropped_name(train['file']))\n",
        "  for val in val_js['data']:\n",
        "    if val['species'] == species:\n",
        "      names.append(get_cropped_name(val['file']))\n",
        "  return names\n",
        "\n",
        "len(get_img_names(\"Gorilla\"))"
      ]
    },
    {
      "cell_type": "code",
      "execution_count": null,
      "metadata": {
        "colab": {
          "base_uri": "https://localhost:8080/"
        },
        "id": "kddJLvX7wUL3",
        "outputId": "e3e23c18-cbe0-4f4a-ec92-f9e87d6c7ba0"
      },
      "outputs": [
        {
          "output_type": "execute_result",
          "data": {
            "text/plain": [
              "['test_cropped_0000112.jpg',\n",
              " 'test_cropped_0000142.jpg',\n",
              " 'test_cropped_0000245.jpg',\n",
              " 'test_cropped_0000277.jpg',\n",
              " 'test_cropped_0000298.jpg',\n",
              " 'test_cropped_0000328.jpg',\n",
              " 'test_cropped_0000338.jpg',\n",
              " 'test_cropped_0000356.jpg',\n",
              " 'test_cropped_0000396.jpg',\n",
              " 'test_cropped_0000422.jpg']"
            ]
          },
          "metadata": {},
          "execution_count": 11
        }
      ],
      "source": [
        "def get_img_names_test(species):\n",
        "  names = []\n",
        "  for test in test_js['data']:\n",
        "    if test['species'] == species:\n",
        "      names.append(get_cropped_name(test['file']))\n",
        "  return names\n",
        "\n",
        "get_img_names_test(\"Gorilla\")[:10]"
      ]
    },
    {
      "cell_type": "code",
      "execution_count": null,
      "metadata": {
        "colab": {
          "base_uri": "https://localhost:8080/"
        },
        "id": "hmUHwkImBWYr",
        "outputId": "16dfd653-2588-4560-ebce-29cd2b80fe79"
      },
      "outputs": [
        {
          "output_type": "execute_result",
          "data": {
            "text/plain": [
              "['train_cropped_0000036.jpg',\n",
              " 'train_cropped_0000048.jpg',\n",
              " 'train_cropped_0000101.jpg',\n",
              " 'train_cropped_0000133.jpg',\n",
              " 'train_cropped_0000146.jpg',\n",
              " 'train_cropped_0000197.jpg',\n",
              " 'train_cropped_0000217.jpg',\n",
              " 'train_cropped_0000256.jpg',\n",
              " 'train_cropped_0000294.jpg',\n",
              " 'train_cropped_0000341.jpg']"
            ]
          },
          "metadata": {},
          "execution_count": 12
        }
      ],
      "source": [
        "species_to_imgs = dict([(s, get_img_names(s)) for s in species])\n",
        "species_to_imgs['Gorilla'][:10]"
      ]
    },
    {
      "cell_type": "code",
      "execution_count": null,
      "metadata": {
        "id": "Zsbnsejpz9yr"
      },
      "outputs": [],
      "source": [
        "import os\n",
        "import shutil\n",
        "\n",
        "for s in species:\n",
        "  shutil.copytree(\"baseline\", f\"baseline_{s}\")"
      ]
    },
    {
      "cell_type": "code",
      "execution_count": null,
      "metadata": {
        "id": "I3TKvz0SxRn4"
      },
      "outputs": [],
      "source": [
        "for s in species:\n",
        "  os.mkdir(f\"test_cropped_{s}\")"
      ]
    },
    {
      "cell_type": "code",
      "execution_count": null,
      "metadata": {
        "id": "s8BdMFg7Fud7"
      },
      "outputs": [],
      "source": [
        "def crop_df(df, imgs):\n",
        "  return df[df.index.get_level_values(2).isin(imgs)]"
      ]
    },
    {
      "cell_type": "code",
      "execution_count": null,
      "metadata": {
        "id": "wFTZy5Pe56TA"
      },
      "outputs": [],
      "source": [
        "import pandas as pd\n",
        "\n",
        "for s in species:\n",
        "  dir = f\"baseline_{s}/\"\n",
        "  csv = dir + \"labeled-data/baseline/CollectedData_daniel.csv\"\n",
        "  h5 = dir + \"labeled-data/baseline/CollectedData_daniel.h5\"\n",
        "  df = pd.read_hdf(h5)\n",
        "  imgs = species_to_imgs[s]\n",
        "  df_cropped = crop_df(df, imgs)\n",
        "  df_cropped.to_csv(csv)\n",
        "  df_cropped.to_hdf(h5, mode=\"w\", key=\"label\")"
      ]
    },
    {
      "cell_type": "code",
      "execution_count": null,
      "metadata": {
        "id": "pX1AP4gkbACN"
      },
      "outputs": [],
      "source": [
        "# Move images\n",
        "\n",
        "import os\n",
        "import shutil\n",
        "\n",
        "for s in species:\n",
        "  imgs = species_to_imgs[s]\n",
        "  for img in imgs:\n",
        "    prefix = \"train_cropped/\" if \"train\" in img else \"val_cropped/\"\n",
        "    shutil.move(prefix + img, f\"baseline_{s}/labeled-data/baseline/{img}\")"
      ]
    },
    {
      "cell_type": "code",
      "execution_count": null,
      "metadata": {
        "id": "AJtW0HvvxoGn"
      },
      "outputs": [],
      "source": [
        "for s in species:\n",
        "  imgs = get_img_names_test(s)\n",
        "  for img in imgs:\n",
        "    shutil.move(f\"test_cropped/{img}\", f\"test_cropped_{s}/{img}\")"
      ]
    },
    {
      "cell_type": "code",
      "execution_count": null,
      "metadata": {
        "id": "aSOgOvJXHW1o"
      },
      "outputs": [],
      "source": [
        "def edit_snapshot_config(path_config_file, snapshot_prefix):\n",
        "  shuffle = 1\n",
        "  trainingsetindex = 0\n",
        "  trainposeconfigfile, testposeconfigfile, snapshotfolder = deeplabcut.return_train_network_path(path_config_file, shuffle=shuffle, trainingsetindex=trainingsetindex)\n",
        "  cfg_dlc = deeplabcut.auxiliaryfunctions.read_plainconfig(trainposeconfigfile)\n",
        "\n",
        "  # Check if there are snapshots here\n",
        "  snapshots_here = os.listdir(snapshot_prefix)\n",
        "\n",
        "  if snapshots_here != []:\n",
        "    snapshot_list = [snap.split(\".\")[0] for snap in snapshots_here]\n",
        "    snapshot_list.sort(key = lambda x : int(x.split(\"-\")[1]))\n",
        "    snapshot = snapshot_list[-1]\n",
        "    cfg_dlc[\"init_weights\"] = snapshot_prefix + \"/\" + snapshot\n",
        "    deeplabcut.auxiliaryfunctions.write_plainconfig(trainposeconfigfile,cfg_dlc)"
      ]
    },
    {
      "cell_type": "code",
      "execution_count": null,
      "metadata": {
        "id": "bw61V5oZ1FJ5"
      },
      "outputs": [],
      "source": [
        "# Train and inference!\n",
        "\n",
        "for s in species:\n",
        "  already_trained = [f.split(\".\")[0][17:] for f in os.listdir(\"drive/MyDrive/5561/26-predictions\")]\n",
        "  if s in already_trained:\n",
        "    continue\n",
        "\n",
        "  path_config_file = f\"/content/baseline_{s}/config.yaml\"\n",
        "\n",
        "  print(f\"Training model for {s}\")\n",
        "\n",
        "  deeplabcut.create_training_dataset(path_config_file, augmenter_type=\"imgaug\")\n",
        "\n",
        "  snapshot_prefix = f\"/content/drive/MyDrive/5561/26-snapshots/{s}\"\n",
        "\n",
        "  edit_snapshot_config(path_config_file, snapshot_prefix)\n",
        "    \n",
        "  deeplabcut.train_network(path_config_file, max_snapshots_to_keep=5, displayiters=100, saveiters=10000, maxiters=350000)\n",
        "  deeplabcut.analyze_videos(path_config_file,\n",
        "                            [f'/content/test_cropped_{s}'], \n",
        "                            videotype='.jpg', \n",
        "                            destfolder=f\"/content/test_predictions_{s}\")\n",
        "\n",
        "  # save results\n",
        "  shutil.make_archive(f\"/content/drive/MyDrive/5561/26-predictions/test_predictions_{s}\", 'zip', f\"/content/test_predictions_{s}\")"
      ]
    },
    {
      "cell_type": "code",
      "execution_count": null,
      "metadata": {
        "id": "5QbGkBu70cAt"
      },
      "outputs": [],
      "source": [
        ""
      ]
    }
  ],
  "metadata": {
    "accelerator": "GPU",
    "colab": {
      "collapsed_sections": [],
      "machine_shape": "hm",
      "name": "OpenMonkeyChallenge26Models.ipynb",
      "provenance": []
    },
    "kernelspec": {
      "display_name": "Python 3",
      "name": "python3"
    },
    "language_info": {
      "name": "python"
    }
  },
  "nbformat": 4,
  "nbformat_minor": 0
}