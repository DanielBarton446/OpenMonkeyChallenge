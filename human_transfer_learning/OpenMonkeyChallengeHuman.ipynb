{
  "nbformat": 4,
  "nbformat_minor": 0,
  "metadata": {
    "colab": {
      "name": "OpenMonkeyChallengeHuman.ipynb",
      "provenance": [],
      "collapsed_sections": [],
      "machine_shape": "hm"
    },
    "kernelspec": {
      "name": "python3",
      "display_name": "Python 3"
    },
    "language_info": {
      "name": "python"
    },
    "accelerator": "GPU"
  },
  "cells": [
    {
      "cell_type": "code",
      "source": [
        "# factory reset runtime until you get p100\n",
        "!nvidia-smi"
      ],
      "metadata": {
        "colab": {
          "base_uri": "https://localhost:8080/"
        },
        "id": "OWuIdA8FTIm-",
        "outputId": "52cfa0e8-ae5d-41dd-941a-e277fd370d5a"
      },
      "execution_count": null,
      "outputs": [
        {
          "output_type": "stream",
          "name": "stdout",
          "text": [
            "Wed Apr 27 03:21:41 2022       \n",
            "+-----------------------------------------------------------------------------+\n",
            "| NVIDIA-SMI 460.32.03    Driver Version: 460.32.03    CUDA Version: 11.2     |\n",
            "|-------------------------------+----------------------+----------------------+\n",
            "| GPU  Name        Persistence-M| Bus-Id        Disp.A | Volatile Uncorr. ECC |\n",
            "| Fan  Temp  Perf  Pwr:Usage/Cap|         Memory-Usage | GPU-Util  Compute M. |\n",
            "|                               |                      |               MIG M. |\n",
            "|===============================+======================+======================|\n",
            "|   0  Tesla P100-PCIE...  Off  | 00000000:00:04.0 Off |                    0 |\n",
            "| N/A   35C    P0    27W / 250W |      0MiB / 16280MiB |      0%      Default |\n",
            "|                               |                      |                  N/A |\n",
            "+-------------------------------+----------------------+----------------------+\n",
            "                                                                               \n",
            "+-----------------------------------------------------------------------------+\n",
            "| Processes:                                                                  |\n",
            "|  GPU   GI   CI        PID   Type   Process name                  GPU Memory |\n",
            "|        ID   ID                                                   Usage      |\n",
            "|=============================================================================|\n",
            "|  No running processes found                                                 |\n",
            "+-----------------------------------------------------------------------------+\n"
          ]
        }
      ]
    },
    {
      "cell_type": "code",
      "execution_count": null,
      "metadata": {
        "id": "eXvrdLgue9VN"
      },
      "outputs": [],
      "source": [
        "%%capture\n",
        "! pip install deeplabcut==2.2.0.6\n",
        "import deeplabcut"
      ]
    },
    {
      "cell_type": "code",
      "source": [
        "! cp -r /content/drive/MyDrive/5561/transfer/baseline ./baseline"
      ],
      "metadata": {
        "id": "eUF0uavcpubC"
      },
      "execution_count": null,
      "outputs": []
    },
    {
      "cell_type": "code",
      "source": [
        "! cp /content/drive/MyDrive/5561/OpenMonkeyChallenge/Zips/train_cropped.zip train_cropped.zip\n",
        "! cp /content/drive/MyDrive/5561/OpenMonkeyChallenge/Zips/val_cropped.zip val_cropped.zip\n",
        "! cp /content/drive/MyDrive/5561/OpenMonkeyChallenge/Zips/test_cropped.zip test_cropped.zip\n",
        "! cp /content/drive/MyDrive/5561/coco/train2017_cropped.zip ./human.zip"
      ],
      "metadata": {
        "id": "c22mnN_AaO4X"
      },
      "execution_count": null,
      "outputs": []
    },
    {
      "cell_type": "code",
      "source": [
        "%%capture\n",
        "! unzip train_cropped.zip\n",
        "! unzip val_cropped.zip\n",
        "! unzip test_cropped.zip\n",
        "! unzip human.zip"
      ],
      "metadata": {
        "id": "prlzsmtrabRa"
      },
      "execution_count": null,
      "outputs": []
    },
    {
      "cell_type": "code",
      "source": [
        "import os\n",
        "import shutil\n",
        "\n",
        "num_train = 66917\n",
        "num_val = 22306\n",
        "\n",
        "for i in range(num_train):\n",
        "  filename = f\"train_cropped_{str(i).rjust(7, '0')}.jpg\"\n",
        "  shutil.move(\"train_cropped/\" + filename, \"baseline/labeled-data/baseline/\" + filename)\n",
        "\n",
        "for i in range(num_val):\n",
        "  filename = f\"val_cropped_{str(i).rjust(7, '0')}.jpg\"\n",
        "  shutil.move(\"val_cropped/\" + filename, \"baseline/labeled-data/baseline/\" + filename)"
      ],
      "metadata": {
        "id": "pX1AP4gkbACN"
      },
      "execution_count": null,
      "outputs": []
    },
    {
      "cell_type": "code",
      "source": [
        "# move human images into folder\n",
        "\n",
        "for d in os.listdir(\"train2017_cropped\"):\n",
        "  source = f\"train2017_cropped/{d}\"\n",
        "  dest = f\"baseline/labeled-data/baseline/{d}\"\n",
        "  shutil.move(source, dest)"
      ],
      "metadata": {
        "id": "CTcZ5GYlV0YR"
      },
      "execution_count": null,
      "outputs": []
    },
    {
      "cell_type": "code",
      "source": [
        "path_config_file = \"/content/baseline/config.yaml\"\n",
        "\n",
        "deeplabcut.create_training_dataset(path_config_file, augmenter_type=\"imgaug\")"
      ],
      "metadata": {
        "colab": {
          "base_uri": "https://localhost:8080/"
        },
        "id": "Eh67Z0MdDTr7",
        "outputId": "a498c320-5250-44c5-aaa4-c3cb7047a733"
      },
      "execution_count": null,
      "outputs": [
        {
          "output_type": "stream",
          "name": "stdout",
          "text": [
            "Downloading a ImageNet-pretrained model from http://download.tensorflow.org/models/resnet_v1_50_2016_08_28.tar.gz....\n",
            "The training dataset is successfully created. Use the function 'train_network' to start training. Happy training!\n"
          ]
        },
        {
          "output_type": "execute_result",
          "data": {
            "text/plain": [
              "[(0.95,\n",
              "  1,\n",
              "  (array([107699,  28653,  53866, ...,  47557, 102981,  79954]),\n",
              "   array([95920,  3780, 24665, ..., 80150, 95812, 24599])))]"
            ]
          },
          "metadata": {},
          "execution_count": 8
        }
      ]
    },
    {
      "cell_type": "code",
      "source": [
        "shuffle=1\n",
        "trainingsetindex=0\n",
        "\n",
        "#get path to the model configuration files\n",
        "trainposeconfigfile,testposeconfigfile,snapshotfolder=deeplabcut.return_train_network_path(path_config_file, shuffle=shuffle ,trainingsetindex=trainingsetindex)\n",
        "\n",
        "#load the training config file and change various parameters:\n",
        "cfg_dlc=deeplabcut.auxiliaryfunctions.read_plainconfig(trainposeconfigfile)\n",
        "\n",
        "cfg_dlc['multi_step']=[[0.001, 1030000]]\n",
        "cfg_dlc[\"init_weights\"] = \"/content/baseline/dlc-models/iteration-0/baselineMar19-trainset95shuffle1/train/snapshot-500000\"\n",
        "\n",
        "#save it and then train the model!\n",
        "deeplabcut.auxiliaryfunctions.write_plainconfig(trainposeconfigfile,cfg_dlc)"
      ],
      "metadata": {
        "id": "QFl5FMNv2xbA"
      },
      "execution_count": null,
      "outputs": []
    },
    {
      "cell_type": "code",
      "source": [
        "\n",
        "# train\n",
        "deeplabcut.train_network(path_config_file, max_snapshots_to_keep=5, displayiters=1000, saveiters=10000, maxiters=1030000, allow_growth=False)\n",
        "\n",
        "# Save model weights\n",
        "! zip drive/MyDrive/5561/human-snapshots/snapshot-1000000.zip /content/baseline/dlc-models/iteration-0/baselineMar19-trainset95shuffle1/train/snapshot-1000000*\n",
        "\n",
        "\n",
        "# inference\n",
        "# deeplabcut.analyze_videos(path_config_file,\n",
        "#                           [f'/content/test_cropped'], \n",
        "#                           videotype='.jpg', \n",
        "#                           destfolder=f\"/content/test_predictions\")\n",
        "\n",
        "# # save results\n",
        "# shutil.make_archive(f\"/content/drive/MyDrive/5561/regular-occlusion-predictions/test_predictions50\", 'zip', f\"/content/test_predictions\")"
      ],
      "metadata": {
        "id": "g_ZcYrdfu310"
      },
      "execution_count": null,
      "outputs": []
    },
    {
      "cell_type": "code",
      "source": [
        "while True:\n",
        "  pass"
      ],
      "metadata": {
        "id": "KJLpUfIsVEsV"
      },
      "execution_count": null,
      "outputs": []
    },
    {
      "cell_type": "code",
      "source": [
        ""
      ],
      "metadata": {
        "id": "5Kb2yu2toA1Z"
      },
      "execution_count": null,
      "outputs": []
    },
    {
      "cell_type": "code",
      "source": [
        "! zip drive/MyDrive/5561/regular-snapshots-50/snapshot-90000.zip /content/baseline/dlc-models/iteration-0/baselineMar19-trainset95shuffle1/train/snapshot-90000*"
      ],
      "metadata": {
        "id": "sslE4RW_nR7S"
      },
      "execution_count": null,
      "outputs": []
    }
  ]
}