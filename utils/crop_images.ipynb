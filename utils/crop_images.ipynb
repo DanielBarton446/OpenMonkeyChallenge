{
 "cells": [
  {
   "cell_type": "code",
   "execution_count": null,
   "id": "ec216f7c",
   "metadata": {},
   "outputs": [],
   "source": [
    "import json\n",
    "with open(\"data/test_prediction.json\") as f:\n",
    "    js = json.load(f)\n",
    "js"
   ]
  },
  {
   "cell_type": "code",
   "execution_count": 19,
   "id": "8c7f7d13",
   "metadata": {},
   "outputs": [],
   "source": [
    "def crop(img, bbox):\n",
    "    x, y, width, height = bbox\n",
    "    return img[y : y + height, x : x + width]"
   ]
  },
  {
   "cell_type": "code",
   "execution_count": 20,
   "id": "2c5c9b46",
   "metadata": {},
   "outputs": [],
   "source": [
    "import cv2 as cv\n",
    "import os"
   ]
  },
  {
   "cell_type": "code",
   "execution_count": 21,
   "id": "89f9722d",
   "metadata": {},
   "outputs": [
    {
     "data": {
      "application/vnd.jupyter.widget-view+json": {
       "model_id": "df9d5a0208de4e538f25bca90166c4ea",
       "version_major": 2,
       "version_minor": 0
      },
      "text/plain": [
       "  0%|          | 0/22306 [00:00<?, ?it/s]"
      ]
     },
     "metadata": {},
     "output_type": "display_data"
    }
   ],
   "source": [
    "from tqdm.notebook import tqdm\n",
    "\n",
    "num_test_images = 22306\n",
    "for i in tqdm(range(num_test_images)):\n",
    "  old_path = \"data/test/test_\" + str(i).rjust(7, '0') + \".jpg\"\n",
    "  new_path = \"data/test_cropped/test_cropped_\" + str(i).rjust(7, '0') + \".jpg\"\n",
    "  if (os.path.exists(new_path)):\n",
    "    continue\n",
    "  img = cv.imread(old_path)\n",
    "  img = crop(img, js[\"data\"][i][\"bbox\"])\n",
    "  cv.imwrite(new_path, img)"
   ]
  },
  {
   "cell_type": "code",
   "execution_count": null,
   "id": "1be1566d",
   "metadata": {},
   "outputs": [],
   "source": []
  }
 ],
 "metadata": {
  "kernelspec": {
   "display_name": "Python 3 (ipykernel)",
   "language": "python",
   "name": "python3"
  },
  "language_info": {
   "codemirror_mode": {
    "name": "ipython",
    "version": 3
   },
   "file_extension": ".py",
   "mimetype": "text/x-python",
   "name": "python",
   "nbconvert_exporter": "python",
   "pygments_lexer": "ipython3",
   "version": "3.7.9"
  }
 },
 "nbformat": 4,
 "nbformat_minor": 5
}
